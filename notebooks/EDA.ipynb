{
 "cells": [
  {
   "cell_type": "code",
   "execution_count": 1,
   "metadata": {},
   "outputs": [],
   "source": [
    "import pandas as pd\n",
    "import numpy as np"
   ]
  },
  {
   "cell_type": "code",
   "execution_count": 2,
   "metadata": {},
   "outputs": [
    {
     "data": {
      "text/html": [
       "<div>\n",
       "<style scoped>\n",
       "    .dataframe tbody tr th:only-of-type {\n",
       "        vertical-align: middle;\n",
       "    }\n",
       "\n",
       "    .dataframe tbody tr th {\n",
       "        vertical-align: top;\n",
       "    }\n",
       "\n",
       "    .dataframe thead th {\n",
       "        text-align: right;\n",
       "    }\n",
       "</style>\n",
       "<table border=\"1\" class=\"dataframe\">\n",
       "  <thead>\n",
       "    <tr style=\"text-align: right;\">\n",
       "      <th></th>\n",
       "      <th>id</th>\n",
       "      <th>name</th>\n",
       "      <th>company</th>\n",
       "      <th>year</th>\n",
       "      <th>Price</th>\n",
       "      <th>kms_driven</th>\n",
       "      <th>fuel_type</th>\n",
       "      <th>gearbox</th>\n",
       "    </tr>\n",
       "  </thead>\n",
       "  <tbody>\n",
       "    <tr>\n",
       "      <th>0</th>\n",
       "      <td>0.0</td>\n",
       "      <td>Hyundai Santro Xing</td>\n",
       "      <td>Hyundai</td>\n",
       "      <td>2007.0</td>\n",
       "      <td>80000.0</td>\n",
       "      <td>450000.0</td>\n",
       "      <td>Petrol</td>\n",
       "      <td>manual</td>\n",
       "    </tr>\n",
       "    <tr>\n",
       "      <th>1</th>\n",
       "      <td>1.0</td>\n",
       "      <td>Mahindra Jeep</td>\n",
       "      <td>Mahindra</td>\n",
       "      <td>2006.0</td>\n",
       "      <td>425000.0</td>\n",
       "      <td>150000.0</td>\n",
       "      <td>Diesel</td>\n",
       "      <td>automatic</td>\n",
       "    </tr>\n",
       "    <tr>\n",
       "      <th>2</th>\n",
       "      <td>2.0</td>\n",
       "      <td>Maruti Suzuki Alto</td>\n",
       "      <td>Maruti</td>\n",
       "      <td>2018.0</td>\n",
       "      <td>40000.0</td>\n",
       "      <td>28000.0</td>\n",
       "      <td>Petrol</td>\n",
       "      <td>automatic</td>\n",
       "    </tr>\n",
       "    <tr>\n",
       "      <th>3</th>\n",
       "      <td>3.0</td>\n",
       "      <td>Hyundai Grand</td>\n",
       "      <td>Hyundai</td>\n",
       "      <td>2014.0</td>\n",
       "      <td>325000.0</td>\n",
       "      <td>36000.0</td>\n",
       "      <td>Petrol</td>\n",
       "      <td>automatic</td>\n",
       "    </tr>\n",
       "    <tr>\n",
       "      <th>4</th>\n",
       "      <td>4.0</td>\n",
       "      <td>Ford EcoSport Titanium</td>\n",
       "      <td>Ford</td>\n",
       "      <td>2014.0</td>\n",
       "      <td>575000.0</td>\n",
       "      <td>59000.0</td>\n",
       "      <td>Diesel</td>\n",
       "      <td>manual</td>\n",
       "    </tr>\n",
       "    <tr>\n",
       "      <th>...</th>\n",
       "      <td>...</td>\n",
       "      <td>...</td>\n",
       "      <td>...</td>\n",
       "      <td>...</td>\n",
       "      <td>...</td>\n",
       "      <td>...</td>\n",
       "      <td>...</td>\n",
       "      <td>...</td>\n",
       "    </tr>\n",
       "    <tr>\n",
       "      <th>102729</th>\n",
       "      <td>NaN</td>\n",
       "      <td>NaN</td>\n",
       "      <td>NaN</td>\n",
       "      <td>NaN</td>\n",
       "      <td>NaN</td>\n",
       "      <td>NaN</td>\n",
       "      <td>NaN</td>\n",
       "      <td>manual</td>\n",
       "    </tr>\n",
       "    <tr>\n",
       "      <th>102730</th>\n",
       "      <td>NaN</td>\n",
       "      <td>NaN</td>\n",
       "      <td>NaN</td>\n",
       "      <td>NaN</td>\n",
       "      <td>NaN</td>\n",
       "      <td>NaN</td>\n",
       "      <td>NaN</td>\n",
       "      <td>automatic</td>\n",
       "    </tr>\n",
       "    <tr>\n",
       "      <th>102731</th>\n",
       "      <td>NaN</td>\n",
       "      <td>NaN</td>\n",
       "      <td>NaN</td>\n",
       "      <td>NaN</td>\n",
       "      <td>NaN</td>\n",
       "      <td>NaN</td>\n",
       "      <td>NaN</td>\n",
       "      <td>manual</td>\n",
       "    </tr>\n",
       "    <tr>\n",
       "      <th>102732</th>\n",
       "      <td>NaN</td>\n",
       "      <td>NaN</td>\n",
       "      <td>NaN</td>\n",
       "      <td>NaN</td>\n",
       "      <td>NaN</td>\n",
       "      <td>NaN</td>\n",
       "      <td>NaN</td>\n",
       "      <td>manual</td>\n",
       "    </tr>\n",
       "    <tr>\n",
       "      <th>102733</th>\n",
       "      <td>NaN</td>\n",
       "      <td>NaN</td>\n",
       "      <td>NaN</td>\n",
       "      <td>NaN</td>\n",
       "      <td>NaN</td>\n",
       "      <td>NaN</td>\n",
       "      <td>NaN</td>\n",
       "      <td>manual</td>\n",
       "    </tr>\n",
       "  </tbody>\n",
       "</table>\n",
       "<p>102734 rows × 8 columns</p>\n",
       "</div>"
      ],
      "text/plain": [
       "         id                     name   company    year     Price  kms_driven  \\\n",
       "0       0.0     Hyundai Santro Xing    Hyundai  2007.0   80000.0    450000.0   \n",
       "1       1.0           Mahindra Jeep   Mahindra  2006.0  425000.0    150000.0   \n",
       "2       2.0       Maruti Suzuki Alto    Maruti  2018.0   40000.0     28000.0   \n",
       "3       3.0           Hyundai Grand    Hyundai  2014.0  325000.0     36000.0   \n",
       "4       4.0  Ford EcoSport Titanium       Ford  2014.0  575000.0     59000.0   \n",
       "...     ...                      ...       ...     ...       ...         ...   \n",
       "102729  NaN                      NaN       NaN     NaN       NaN         NaN   \n",
       "102730  NaN                      NaN       NaN     NaN       NaN         NaN   \n",
       "102731  NaN                      NaN       NaN     NaN       NaN         NaN   \n",
       "102732  NaN                      NaN       NaN     NaN       NaN         NaN   \n",
       "102733  NaN                      NaN       NaN     NaN       NaN         NaN   \n",
       "\n",
       "       fuel_type    gearbox  \n",
       "0         Petrol     manual  \n",
       "1         Diesel  automatic  \n",
       "2         Petrol  automatic  \n",
       "3         Petrol  automatic  \n",
       "4         Diesel     manual  \n",
       "...          ...        ...  \n",
       "102729       NaN     manual  \n",
       "102730       NaN  automatic  \n",
       "102731       NaN     manual  \n",
       "102732       NaN     manual  \n",
       "102733       NaN     manual  \n",
       "\n",
       "[102734 rows x 8 columns]"
      ]
     },
     "execution_count": 2,
     "metadata": {},
     "output_type": "execute_result"
    }
   ],
   "source": [
    "df=pd.DataFrame(pd.read_csv(\"data/cleaned_car_data.csv\"))\n",
    "df"
   ]
  },
  {
   "cell_type": "code",
   "execution_count": 3,
   "metadata": {},
   "outputs": [
    {
     "data": {
      "text/plain": [
       "array(['Hyundai Santro Xing ', 'Mahindra Jeep ', 'Maruti Suzuki Alto',\n",
       "       'Hyundai Grand ', 'Ford EcoSport Titanium ', 'Ford Figo',\n",
       "       'Hyundai Eon', 'Ford EcoSport Ambiente ', 'Maruti Suzuki Alto ',\n",
       "       'Skoda Fabia Classic ', 'Maruti Suzuki Stingray Vxi',\n",
       "       'Hyundai Elite ', 'Mahindra Scorpio SLE BS IV', 'Audi ',\n",
       "       'Mahindra Scorpio S', 'Mahindra Scorpio ', 'Hyundai ', 'Hyundai i',\n",
       "       'Hyundai  Sportz ', 'Maruti Suzuki Vitara Brezza ZDi',\n",
       "       'Maruti Suzuki Alto LX', 'Mahindra Bolero DI',\n",
       "       'Maruti Suzuki Swift Dzire ZDi', 'Maruti Suzuki Swift Vdi BSIII',\n",
       "       'Maruti Suzuki Wagon R VXi BS III',\n",
       "       'Maruti Suzuki Wagon R VXi Minor', 'Toyota Innova  STR BS IV',\n",
       "       'Renault Lodgy 85 PS RXL', 'Skoda Yeti Ambition TDI CR ',\n",
       "       'Maruti Suzuki Baleno Delta ', 'Renault Duster Diesel Plus',\n",
       "       'Renault Duster  Diesel', 'Honda City S MT', 'Maruti Suzuki AMT',\n",
       "       'Maruti Suzuki Dzire', 'Honda Amaze', 'Honda Amaze  DTEC',\n",
       "       'Honda City', 'Datsun Redi GO S', 'Maruti Suzuki SX4 ZXI MT',\n",
       "       'Mitsubishi Pajero Sport Limited Edition', 'Mahindra Scorpio WD',\n",
       "       'Maruti Suzuki Swift ', 'Honda City ZX CVT',\n",
       "       'Maruti Suzuki Wagon R LX BS IV', 'Tata Indigo eCS LS CR4 BS IV',\n",
       "       'Tata Indigo', 'Mahindra Scorpio SLE ',\n",
       "       'Volkswagen Polo Highline Exquisite ',\n",
       "       'Maruti Suzuki Stingray VXi', 'Chevrolet Spark ',\n",
       "       'Renault Duster ', 'Mini Cooper ', 'Datsun Redi',\n",
       "       'Skoda Fabia Diesel Ambiente', 'Renault Duster', 'Mini Cooper S ',\n",
       "       'Mahindra Scorpio VLX', 'Mahindra Quanto ', 'Ford EcoSport',\n",
       "       'Honda Brio', 'Volkswagen Vento Highline Plus ', 'Hyundai Magna',\n",
       "       'Toyota Corolla Altis Diesel ', 'Hyundai Verna Transform',\n",
       "       'Toyota Corolla Altis Petrol Ltd', 'Honda City ',\n",
       "       'Skoda Fabia Diesel Elegance', 'BMW  Series ',\n",
       "       'Maruti Suzuki A Star Lxi', 'Toyota Etios GD',\n",
       "       'Ford Figo Diesel EXI Option', 'Maruti Suzuki Swift Dzire VXi ',\n",
       "       nan], dtype=object)"
      ]
     },
     "execution_count": 3,
     "metadata": {},
     "output_type": "execute_result"
    }
   ],
   "source": [
    "df['name'].unique()"
   ]
  },
  {
   "cell_type": "code",
   "execution_count": 4,
   "metadata": {},
   "outputs": [
    {
     "data": {
      "text/plain": [
       "array(['Hyundai', 'Mahindra', 'Maruti', 'Ford', 'Skoda', 'Audi', 'Toyota',\n",
       "       'Renault', 'Honda', 'Datsun', 'Mitsubishi', 'Tata', 'Volkswagen',\n",
       "       'Chevrolet', 'Mini', 'BMW', nan], dtype=object)"
      ]
     },
     "execution_count": 4,
     "metadata": {},
     "output_type": "execute_result"
    }
   ],
   "source": [
    "df['company'].unique()"
   ]
  },
  {
   "cell_type": "code",
   "execution_count": 5,
   "metadata": {},
   "outputs": [
    {
     "data": {
      "text/plain": [
       "array(['Petrol', 'Diesel', 'petrol', nan], dtype=object)"
      ]
     },
     "execution_count": 5,
     "metadata": {},
     "output_type": "execute_result"
    }
   ],
   "source": [
    "df['fuel_type'].unique()"
   ]
  },
  {
   "cell_type": "code",
   "execution_count": 6,
   "metadata": {},
   "outputs": [
    {
     "data": {
      "text/plain": [
       "array(['manual', 'automatic'], dtype=object)"
      ]
     },
     "execution_count": 6,
     "metadata": {},
     "output_type": "execute_result"
    }
   ],
   "source": [
    "df['gearbox'].unique()"
   ]
  },
  {
   "cell_type": "code",
   "execution_count": null,
   "metadata": {},
   "outputs": [],
   "source": []
  }
 ],
 "metadata": {
  "kernelspec": {
   "display_name": "Python 3",
   "language": "python",
   "name": "python3"
  },
  "language_info": {
   "codemirror_mode": {
    "name": "ipython",
    "version": 3
   },
   "file_extension": ".py",
   "mimetype": "text/x-python",
   "name": "python",
   "nbconvert_exporter": "python",
   "pygments_lexer": "ipython3",
   "version": "3.10.2"
  }
 },
 "nbformat": 4,
 "nbformat_minor": 2
}
